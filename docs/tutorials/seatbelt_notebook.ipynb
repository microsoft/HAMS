{
 "cells": [
  {
   "cell_type": "markdown",
   "metadata": {},
   "source": [
    "# Running HAMS SeatBelt module"
   ]
  },
  {
   "cell_type": "code",
   "execution_count": null,
   "metadata": {},
   "outputs": [],
   "source": [
    "import os\n",
    "from ipywidgets import FileUpload\n",
    "from omegaconf import OmegaConf\n",
    "\n",
    "from mapping_cli.maneuvers.seat_belt import SeatBelt\n",
    "from mapping_cli.config.config import Config"
   ]
  },
  {
   "cell_type": "code",
   "execution_count": null,
   "metadata": {},
   "outputs": [],
   "source": [
    "from ipywidgets import FileUpload\n",
    "from IPython.display import display, Image\n",
    "upload = FileUpload(accept='.mp4', multiple=False)\n",
    "display(upload)\n"
   ]
  },
  {
   "attachments": {},
   "cell_type": "markdown",
   "metadata": {},
   "source": [
    "Upload a driver-facing video to detect the seatbelt"
   ]
  },
  {
   "cell_type": "code",
   "execution_count": null,
   "metadata": {},
   "outputs": [],
   "source": [
    "with open(\"front_video.mp4\", \"wb\") as f:\n",
    "    f.write(upload.value[0].content)"
   ]
  },
  {
   "cell_type": "markdown",
   "metadata": {},
   "source": [
    "Modify the config variables depending on the need. "
   ]
  },
  {
   "cell_type": "code",
   "execution_count": null,
   "metadata": {},
   "outputs": [],
   "source": [
    "config = {\n",
    "    \"device\": \"cpu\",\n",
    "    \"skip_frames\": 25,\n",
    "    \"classifier_confidence_threshold\": 0.75,\n",
    "    \"detection_percentage\": 0.75,\n",
    "    \"model_path\": [\"models\", \"seatbelt_model.pth\"],\n",
    "}"
   ]
  },
  {
   "cell_type": "markdown",
   "metadata": {},
   "source": [
    "Now, save the config to `seatbelt.yaml`, create a directory to store the outputs named `output` and run the seabelt module"
   ]
  },
  {
   "cell_type": "code",
   "execution_count": null,
   "metadata": {},
   "outputs": [],
   "source": [
    "with open('seatbelt.yaml', 'w') as f:\n",
    "    OmegaConf.save(OmegaConf.create(config), f)\n",
    "os.makedirs('output', exist_ok=True)"
   ]
  },
  {
   "cell_type": "code",
   "execution_count": null,
   "metadata": {},
   "outputs": [],
   "source": [
    "seatbelt = SeatBelt(inputs={\"fpath\":os.path.abspath('front_video.mp4')}, inertial_data=None, config=Config('seatbelt.yaml'), out_folder='./output')\n",
    "_, found_belt, _ = seatbelt.run()"
   ]
  },
  {
   "cell_type": "markdown",
   "metadata": {},
   "source": [
    "## Visualize the Outputs"
   ]
  },
  {
   "cell_type": "code",
   "execution_count": null,
   "metadata": {},
   "outputs": [],
   "source": [
    "if found_belt:\n",
    "    display(Image(filename='output/seatbelt_image.jpg'))"
   ]
  },
  {
   "attachments": {},
   "cell_type": "markdown",
   "metadata": {},
   "source": [
    "## Final Test Results"
   ]
  },
  {
   "cell_type": "code",
   "execution_count": null,
   "metadata": {},
   "outputs": [],
   "source": [
    "import json\n",
    "import ast\n",
    "with open('output/report.txt', 'r') as f:\n",
    "    report = json.load(f)    \n",
    "    print(\"Pass: \", ast.literal_eval(report['Seatbelt'])[1])"
   ]
  }
 ],
 "metadata": {
  "kernelspec": {
   "display_name": "Python 3 (ipykernel)",
   "language": "python",
   "name": "python3"
  },
  "language_info": {
   "codemirror_mode": {
    "name": "ipython",
    "version": 3
   },
   "file_extension": ".py",
   "mimetype": "text/x-python",
   "name": "python",
   "nbconvert_exporter": "python",
   "pygments_lexer": "ipython3",
   "version": "3.8.16 (default, Jan 17 2023, 22:25:28) [MSC v.1916 64 bit (AMD64)]"
  },
  "vscode": {
   "interpreter": {
    "hash": "4ecb028c9e4ec612609cae8571d5e3a76bf96bee660effba276681a0b0090bd9"
   }
  }
 },
 "nbformat": 4,
 "nbformat_minor": 2
}
