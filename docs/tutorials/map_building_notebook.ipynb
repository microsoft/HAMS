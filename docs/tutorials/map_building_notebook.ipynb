{
 "cells": [
  {
   "attachments": {},
   "cell_type": "markdown",
   "metadata": {},
   "source": [
    "# Running HAMS Map Generation module"
   ]
  },
  {
   "cell_type": "code",
   "execution_count": 1,
   "metadata": {},
   "outputs": [],
   "source": [
    "import os\n",
    "\n",
    "from mapping_cli.mapper import run as mapper"
   ]
  },
  {
   "attachments": {},
   "cell_type": "markdown",
   "metadata": {},
   "source": [
    "## File Requirements\n",
    "\n",
    "1. Path to the binaries / executable named `mapper_from_images`\n",
    "2. Compile all the images of a map into a single folder - let's call this folder `images`\n",
    "3. Generate the camera calibration file. To generate one, you can check the `Camera Calibration` module from the `Tutorials` section. Let's call this file `calib.yml`\n",
    "4. Depending on the aruco markers setup on the map, add the dictionary. Typically, we use `TAG16h5`\n",
    "5. Marker size: Size of the printed aruco markers \n",
    "\n",
    "Let's add these to the variables below. If you've changed the names, please change the variable values in the subsequent cell"
   ]
  },
  {
   "cell_type": "code",
   "execution_count": null,
   "metadata": {},
   "outputs": [],
   "source": [
    "exec_path = 'mapper_from_images'\n",
    "img_folder = \"images\"\n",
    "calib_file = \"calib.yml\"\n",
    "aruco_dict = \"TAG16h5\"\n",
    "marker_size = 29.2\n",
    "\n",
    "name = \"map_example\"\n",
    "output_folder = \"output/\""
   ]
  },
  {
   "cell_type": "code",
   "execution_count": null,
   "metadata": {},
   "outputs": [],
   "source": [
    "os.makedirs(output_folder, exist_ok=True)\n",
    "mapper(exec_path, img_folder, calib_file, aruco_dict, marker_size, name, output_folder)"
   ]
  },
  {
   "attachments": {},
   "cell_type": "markdown",
   "metadata": {},
   "source": [
    "## Visualize the Point Cloud Map\n",
    "\n",
    "We'll use [Open3D](http://www.open3d.org/) to visualize the generated point cloud map"
   ]
  },
  {
   "cell_type": "code",
   "execution_count": null,
   "metadata": {},
   "outputs": [],
   "source": [
    "%pip install open3d\n",
    "import open3d\n",
    "from open3d.web_visualizer import draw"
   ]
  },
  {
   "cell_type": "code",
   "execution_count": 12,
   "metadata": {},
   "outputs": [],
   "source": [
    "pcd = open3d.io.read_point_cloud(\"output/map_example.pcd\")\n",
    "draw(pcd)"
   ]
  }
 ],
 "metadata": {
  "kernelspec": {
   "display_name": "hams",
   "language": "python",
   "name": "python3"
  },
  "language_info": {
   "codemirror_mode": {
    "name": "ipython",
    "version": 3
   },
   "file_extension": ".py",
   "mimetype": "text/x-python",
   "name": "python",
   "nbconvert_exporter": "python",
   "pygments_lexer": "ipython3",
   "version": "3.8.16"
  },
  "orig_nbformat": 4,
  "vscode": {
   "interpreter": {
    "hash": "4ecb028c9e4ec612609cae8571d5e3a76bf96bee660effba276681a0b0090bd9"
   }
  }
 },
 "nbformat": 4,
 "nbformat_minor": 2
}
