{
 "cells": [
  {
   "attachments": {},
   "cell_type": "markdown",
   "metadata": {},
   "source": [
    "# Running HAMS Face Verification module"
   ]
  },
  {
   "cell_type": "code",
   "execution_count": null,
   "metadata": {},
   "outputs": [],
   "source": [
    "import os\n",
    "from ipywidgets import FileUpload\n",
    "from omegaconf import OmegaConf\n",
    "\n",
    "from mapping_cli.maneuvers.face_verification import FaceVerification\n",
    "from mapping_cli.config.config import Config"
   ]
  },
  {
   "cell_type": "code",
   "execution_count": null,
   "metadata": {},
   "outputs": [],
   "source": [
    "from ipywidgets import FileUpload\n",
    "from IPython.display import display, Image\n",
    "upload = FileUpload(accept='.mp4', multiple=False)\n",
    "display(upload)\n"
   ]
  },
  {
   "attachments": {},
   "cell_type": "markdown",
   "metadata": {},
   "source": [
    "Upload the calibration video to registered the driver taking the test"
   ]
  },
  {
   "cell_type": "code",
   "execution_count": null,
   "metadata": {},
   "outputs": [],
   "source": [
    "with open(\"calibration.mp4\", \"wb\") as f:\n",
    "    f.write(upload.value[0].content)"
   ]
  },
  {
   "attachments": {},
   "cell_type": "markdown",
   "metadata": {},
   "source": [
    "Upload the video of the driver-facing camera to check if it's the registered driver that is taking the test"
   ]
  },
  {
   "cell_type": "code",
   "execution_count": null,
   "metadata": {},
   "outputs": [],
   "source": [
    "with open(\"front_video.mp4\", \"wb\") as f:\n",
    "    f.write(upload.value[0].content)"
   ]
  },
  {
   "attachments": {},
   "cell_type": "markdown",
   "metadata": {},
   "source": [
    "Modify the config variables depending on the need. "
   ]
  },
  {
   "cell_type": "code",
   "execution_count": null,
   "metadata": {},
   "outputs": [],
   "source": [
    "config = {\n",
    "    \n",
    "}"
   ]
  },
  {
   "attachments": {},
   "cell_type": "markdown",
   "metadata": {},
   "source": [
    "Now, save the config to `face_verification.yaml`, create a directory to store the outputs named `output` and run the seabelt module"
   ]
  },
  {
   "cell_type": "code",
   "execution_count": null,
   "metadata": {},
   "outputs": [],
   "source": [
    "with open('face_verification.yaml', 'w') as f:\n",
    "    OmegaConf.save(OmegaConf.create(config), f)\n",
    "os.makedirs('output', exist_ok=True)"
   ]
  },
  {
   "cell_type": "code",
   "execution_count": null,
   "metadata": {},
   "outputs": [],
   "source": [
    "face_verification = FaceVerification(inputs={\"fpath\": os.path.abspath('front_video.mp4'), \"calib_video\": os.path.abspath('calibration.mp4')}, config=Config('face_verification.yaml'), out_folder='output')\n",
    "_, result, _ = face_verification.run()"
   ]
  },
  {
   "attachments": {},
   "cell_type": "markdown",
   "metadata": {},
   "source": [
    "## Final Test Results"
   ]
  },
  {
   "cell_type": "code",
   "execution_count": null,
   "metadata": {},
   "outputs": [],
   "source": [
    "print(f\"Same Driver: {result}\")"
   ]
  }
 ],
 "metadata": {
  "kernelspec": {
   "display_name": "hams",
   "language": "python",
   "name": "python3"
  },
  "language_info": {
   "codemirror_mode": {
    "name": "ipython",
    "version": 3
   },
   "file_extension": ".py",
   "mimetype": "text/x-python",
   "name": "python",
   "nbconvert_exporter": "python",
   "pygments_lexer": "ipython3",
   "version": "3.8.16 (default, Jan 17 2023, 22:25:28) [MSC v.1916 64 bit (AMD64)]"
  },
  "orig_nbformat": 4,
  "vscode": {
   "interpreter": {
    "hash": "4ecb028c9e4ec612609cae8571d5e3a76bf96bee660effba276681a0b0090bd9"
   }
  }
 },
 "nbformat": 4,
 "nbformat_minor": 2
}
